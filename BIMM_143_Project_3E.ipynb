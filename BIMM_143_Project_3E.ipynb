{
 "cells": [
  {
   "attachments": {},
   "cell_type": "markdown",
   "metadata": {},
   "source": [
    "Scientific question being answered: Is the mosquito species Anopheles gambiae genetically more similar to Anopheles darlingi than it is to Anopheles arabiensis due to similarities in climate even though the primary region in which An. gambiae is found is geographically closer to that in which An. arabiensis is primarily found?\n",
    "\n",
    "I chose these species of mosquito because of the climate and georgraphic locations of the regions in which they are primarily found. Based on the species distribution map that can be found here: https://www.intechopen.com/books/anopheles-mosquitoes-new-insights-into-malaria-vectors/global-distribution-of-the-dominant-vector-species-of-malaria, and research into the climates of various regions An. darlingi is found in a region of South America that has a climate very similar to some regions in Africa in which An. gambiae but not An. arabiensis is found. Whereas the regions of Africa in which only An. arabiensis is found generally have climates that are not as similar to the regions of South America in which An. darlingi is found. Thus, I wanted to test whether climate has a larger impact on the mosquito genomes of different species than does geographic proximity of the species.\n",
    "\n",
    "I obtained the sequence data for the mosquitoes from the NCBI genome database which then led me to their gene section of the database. I originally tried to compare via sequence alignments the whole genome but my computer could not handle this. I instead compared the mitochondrial DNA sequence I obtained from the NCBI database, and since this was still fairly large sequence data to work with I compared just the cytochrome C oxidase gene portion of the mitochondrial DNA since this was a gene I was able to find sequence information on for all three species. \n",
    "\n",
    "Sequence data links:\n",
    "Darlingi: https://www.ncbi.nlm.nih.gov/gene/9385152\n",
    "Gambiae: https://www.ncbi.nlm.nih.gov/gene/?term=anopheles+Gambiae+cox2\n",
    "Arabiensis: https://www.ncbi.nlm.nih.gov/gene/26121207\n",
    "\n",
    "From these NCBI pages I first downloaded the entire mitochondrial DNA sequence as a Fasta file, and then I selected just the portions of the sequence corresponding to the COX2 gene and downloaded these sequences also as Fasta files. \n",
    "\n",
    "If the climate in the regions where two different mosquito species are found are similar, then these mosquito species will be genetically more similar to each other than to another species found in a different climate. Thus, I hypothesize an. gambiae will have a higher similarity score to an. darlingi than it will to an. arabiensis. "
   ]
  },
  {
   "cell_type": "code",
   "execution_count": 75,
   "metadata": {
    "jupyter": {
     "outputs_hidden": true
    }
   },
   "outputs": [],
   "source": [
    "# The NumPy library provides useful tools for working with large, multi-dimensional arrays and matrices.\n",
    "# NumPy also contains many functions to allow for high-level mathematical analysis of datasets.\n",
    "import numpy\n",
    "\n",
    "# pyplot is a module within matplotlib that is designed to provide a MATLAB-like interface for plotting data.\n",
    "import matplotlib.pyplot as plt\n",
    "\n",
    "# Bio imports biopython, which contains a huge variety of tools designed to help with analysis of biological data\n",
    "# such as DNA sequence data. \n",
    "import Bio\n",
    "\n",
    "# Seq is an object within biopythin that allows you to combine a python string with biological methods. \n",
    "# Seq contains methods for working with DNA, RNA, or amino acid sequences.\n",
    "from Bio.Seq import Seq\n",
    "\n",
    "# The Bio.pairwise 2 module provides a tool form performing pairwise sequence alignments in python. \n",
    "from Bio.pairwise2 import format_alignment\n",
    "\n",
    "# pairwise2 is from biopython and allows you to perform pairwise sequence alignments.\n",
    "from Bio import pairwise2\n",
    "\n",
    "# SeqIO provides a concenient interface for inputting and outputting sequence files.\n",
    "# This package will only deal with sequences in the form of SeqRecord objects.\n",
    "from Bio import SeqIO"
   ]
  },
  {
   "cell_type": "markdown",
   "metadata": {},
   "source": [
    "The bioinformatics method I am using is pairwise sequence alignment using the pairwise2.align.globalxx() from biopython. This takes two sequences in the form of strings and then finds the best alignment for the two sequences. The output is the alignment as well as a score for the sequence similarity based on the alignment. By default, the score_only argument is set to False, but for my project I only need the score and not a printout of the alignment so I have set this to True. The sequence alignment method works by maximizing the alignment score according to a set scoring system that assigns a set value to the occurence of a match, a mismatch, and a gap when aligning the two sequences. Because I used globalxx in this case, the scoring is such that identical characters have a score of 1, otherwise 0, and there are no gap penalties (source: https://biopython.org/docs/1.75/api/Bio.pairwise2.html). "
   ]
  },
  {
   "cell_type": "code",
   "execution_count": 76,
   "metadata": {
    "jupyter": {
     "outputs_hidden": true
    }
   },
   "outputs": [
    {
     "name": "stdout",
     "output_type": "stream",
     "text": [
      "15617\n",
      "15602\n",
      "15593\n",
      "<class 'str'>\n",
      "<class 'str'>\n",
      "<class 'str'>\n"
     ]
    }
   ],
   "source": [
    "# Opening the fasta file for an. darlingi mitochondiral DNA sequence.\n",
    "# I had to switch from analyzing the whole genome to just the mitochondrial DNA because my computer couldn't handle the size of the files. \n",
    "darli_file = open(\"darlingi_mito_seq.fasta\")\n",
    "#Reading the contents of the fasta file into darli_seq\n",
    "darli_seq = darli_file.read()\n",
    "\n",
    "#Opening the fasta file for an. arabiensis mitochondiral DNA sequence \n",
    "arabi_file = open(\"arabiensis_mito_seq.fasta\")\n",
    "#Reading the contents of the fasta file into arabi_seq\n",
    "arabi_seq = arabi_file.read()\n",
    "\n",
    "#Opening the fasta file for an. gambiae mitochondiral DNA sequence \n",
    "gambi_file = open(\"gambiae_mito_seq.fasta\")\n",
    "#Reading the contents of the fasta file into gambi_seq\n",
    "gambi_seq = gambi_file.read()\n",
    "\n",
    "#Printing the lengths of sequences in the three fasta files for comparison\n",
    "print(len(darli_seq))\n",
    "print(len(arabi_seq))\n",
    "print(len(gambi_seq))\n",
    "\n",
    "#Checking the types, I expect them to be of class str\n",
    "print(type(gambi_seq))\n",
    "print(type(darli_seq))\n",
    "print(type(arabi_seq))"
   ]
  },
  {
   "cell_type": "code",
   "execution_count": 77,
   "metadata": {
    "jupyter": {
     "outputs_hidden": true
    },
    "scrolled": false
   },
   "outputs": [
    {
     "data": {
      "text/plain": [
       "13996.0"
      ]
     },
     "execution_count": 77,
     "metadata": {},
     "output_type": "execute_result"
    }
   ],
   "source": [
    "# Pairwise global alignment of an. darlingi and an. arabiensis mitochondrial DNA.\n",
    "# Using globalxx to look for best allignment. \n",
    "# If you want to also see the sequence alignment, remove score_only = True, or set to False (this is the default)\n",
    "gambi_darli_align = pairwise2.align.globalxx(gambi_seq, darli_seq, score_only = True)\n",
    "gambi_darli_align"
   ]
  },
  {
   "cell_type": "code",
   "execution_count": 78,
   "metadata": {
    "jupyter": {
     "outputs_hidden": true
    }
   },
   "outputs": [
    {
     "data": {
      "text/plain": [
       "15393.0"
      ]
     },
     "execution_count": 78,
     "metadata": {},
     "output_type": "execute_result"
    }
   ],
   "source": [
    "# Pairwise global alignment of an. darlingi and an. gambiae mitochondrial DNA.\n",
    "# Using globalxx to look for best allignment. \n",
    "# If you want to also see the sequence alignment, remove score_only = True, or set to False (this is the default)\n",
    "gambi_arabi_align = pairwise2.align.globalxx(gambi_seq, arabi_seq, score_only = True)\n",
    "gambi_arabi_align"
   ]
  },
  {
   "cell_type": "code",
   "execution_count": 79,
   "metadata": {
    "jupyter": {
     "outputs_hidden": true
    }
   },
   "outputs": [
    {
     "name": "stdout",
     "output_type": "stream",
     "text": [
      "705\n",
      "707\n",
      "703\n",
      "<class 'str'>\n",
      "<class 'str'>\n",
      "<class 'str'>\n",
      ">darlingi\n",
      "ATGGCAACATGAGCAAATTTAGGGTTACAAGATAGTTCTTCTCCTTTAATAGAACAATTAAACTTTTTTC\n",
      "ATGATCACACATTATTAATTTTAACTATAATTACAATTTTAGTTGGATATATTATAGGAATATTAATATT\n",
      "TAATAAATTTACTAATCGATATTTATTACATGGACAAACTATTGAAATTATTTGAACAGTATTACCTGCA\n",
      "ATTATTTTAATATTTATTGCATTCCCTTCATTACGATTATTATACCTAATAGATGAAATTAATACTCCAT\n",
      "CAATTACATTAAAGTCAGTAGGACATCAATGATATTGAAGTTATGAATATTCAGATTTTCTAAATTTAGA\n",
      "ATTTGATTCCTATATAATTCCAACAAATGAATTAGAATTAAGTGGATTTCGATTATTAGATGTTGATAAT\n",
      "CGAGTAGTCTTACCAATAAATAATCAAATTCGAGTTTTAGTAACAGCTACAGATGTTCTTCATTCTTGAA\n",
      "CAGTTCCTTCTTTAGGGGTAAAGGTAGATGCAACACCAGGCCGACTAAATCAACTTAATTTTTTAATCAA\n",
      "TCGACCAGGATTATTTTTTGGTCAATGTTCAGAAATTTGTGGAGCTAATCATAGATTTATACCAATTGTA\n",
      "ATTGAAAGTATCCCTATAAATTTTTTTATTAAATGAATTACTTCTATAACTAATT\n",
      "\n"
     ]
    }
   ],
   "source": [
    "#Opening the fasta file for COX2 gene of an. darlingi mitochondiral DNA sequence \n",
    "darli_cox_file = open(\"darlingi_cox_seq.fasta\")\n",
    "#Reading the contents of the fasta file into darli_cox_seq\n",
    "darli_cox_seq = darli_cox_file.read()\n",
    "\n",
    "#Opening the fasta file for COX2 gene of an. arabiensis mitochondiral DNA sequence \n",
    "arabi_cox_file = open(\"arabiensis_cox_seq.fasta\")\n",
    "#Reading the contents of the fasta file into arabi_seq\n",
    "arabi_cox_seq = arabi_cox_file.read()\n",
    "\n",
    "#Opening the fasta file for COX2 gene of an. gambiae mitochondiral DNA sequence \n",
    "gambi_cox_file = open(\"gambiae_cox_seq.fasta\")\n",
    "#Reading the contents of the fasta file into gambi_seq\n",
    "gambi_cox_seq = gambi_cox_file.read()\n",
    "\n",
    "#Printing the lengths of sequences in the three fasta files for comparison\n",
    "print(len(darli_cox_seq))\n",
    "print(len(arabi_cox_seq))\n",
    "print(len(gambi_cox_seq))\n",
    "\n",
    "#Checking the types, I expect them to be of class str\n",
    "print(type(gambi_cox_seq))\n",
    "print(type(darli_cox_seq))\n",
    "print(type(arabi_cox_seq))\n",
    "\n",
    "#Checking the printout of one sequence to check it is as expected\n",
    "print(darli_cox_seq)"
   ]
  },
  {
   "cell_type": "code",
   "execution_count": 80,
   "metadata": {
    "jupyter": {
     "outputs_hidden": true
    }
   },
   "outputs": [
    {
     "data": {
      "text/plain": [
       "632.0"
      ]
     },
     "execution_count": 80,
     "metadata": {},
     "output_type": "execute_result"
    }
   ],
   "source": [
    "# Aligning just the cytochrome C oxidase 2 coding sequence from NCBI to work with for making a sequence logo.\n",
    "# If you want to also see the sequence alignment, remove score_only = True, or set to False (this is the default).\n",
    "gambi_darli_cox_align = pairwise2.align.globalxx(gambi_cox_seq, darli_cox_seq, score_only = True)\n",
    "gambi_darli_cox_align"
   ]
  },
  {
   "cell_type": "code",
   "execution_count": 81,
   "metadata": {
    "jupyter": {
     "outputs_hidden": true
    }
   },
   "outputs": [
    {
     "data": {
      "text/plain": [
       "699.0"
      ]
     },
     "execution_count": 81,
     "metadata": {},
     "output_type": "execute_result"
    }
   ],
   "source": [
    "# Aligning just the cytochrome C oxidase 2 coding sequence from NCBI to work with for making a sequence logo.\n",
    "# If you want to also see the sequence alignment, remove score_only = True, or set to False (this is the default).\n",
    "gambi_arabi_cox_align = pairwise2.align.globalxx(gambi_cox_seq, arabi_cox_seq, score_only = True)\n",
    "gambi_arabi_cox_align"
   ]
  },
  {
   "cell_type": "code",
   "execution_count": 83,
   "metadata": {},
   "outputs": [
    {
     "name": "stdout",
     "output_type": "stream",
     "text": [
      "Based on alignment of the whole mitochondrial DNA sequence, an. gambiae is more similar to an. darlingi than to an. arabiensis: False\n",
      "Based on alignment of the COX2 gene sequence, an. gambiae is more similar to an. darlingi than to an. arabiensis: False\n"
     ]
    }
   ],
   "source": [
    "print(\"Based on alignment of the whole mitochondrial DNA sequence, an. gambiae is more similar to an. darlingi than to an. arabiensis:\" , gambi_darli_align > gambi_arabi_align)\n",
    "print(\"Based on alignment of the COX2 gene sequence, an. gambiae is more similar to an. darlingi than to an. arabiensis:\" ,gambi_darli_cox_align > gambi_arabi_cox_align)"
   ]
  },
  {
   "cell_type": "markdown",
   "metadata": {},
   "source": [
    "The findings presented above refute my hypothesis since they indicate that an. gambiae is in fact genetically more similar to an. arabiensis than to an. darlingi. Below I have created dot plots depicting the alignments. The firt set of dot plots shows a small section of the COX2 gene since it became very difficult to see what was being show on this plot with large sequences. These plots are useful for if you are interested in a specific short section of the gene since you can just input the correct numbers to select the section of the gene you are interested in from the whole gene. You can see, especially in the second set of dot plots that an. gambiae aligns much better with an. arabiensis than with an. darlingi, since there are significantly fewer gaps in the line shown on the gambiae/darlingi plot than on the gambiae/arabiensis plot."
   ]
  },
  {
   "cell_type": "code",
   "execution_count": 84,
   "metadata": {},
   "outputs": [
    {
     "name": "stdout",
     "output_type": "stream",
     "text": [
      "Section of COX2 comparison gambiae to darlingi:\n"
     ]
    },
    {
     "data": {
      "image/png": "[encoded data removed]",
      "text/plain": [
       "<Figure size 432x288 with 1 Axes>"
      ]
     },
     "metadata": {
      "needs_background": "light"
     },
     "output_type": "display_data"
    },
    {
     "name": "stdout",
     "output_type": "stream",
     "text": [
      "Section of COX2 comparison gambiae to arabiensis:\n"
     ]
    },
    {
     "data": {
      "image/png": "[encoded data removed]",
      "text/plain": [
       "<Figure size 432x288 with 1 Axes>"
      ]
     },
     "metadata": {
      "needs_background": "light"
     },
     "output_type": "display_data"
    }
   ],
   "source": [
    "gambi_cox_file = open(\"gambiae_cox_seq.fasta\")\n",
    "gambi_cox_seq = gambi_cox_file.read()\n",
    "\n",
    "darli_cox_file = open(\"darlingi_cox_seq.fasta\")\n",
    "darli_cox_seq = darli_cox_file.read()\n",
    "\n",
    "arabi_cox_file = open(\"arabiensis_cox_seq.fasta\")\n",
    "arabi_cox_seq = arabi_cox_file.read()\n",
    "\n",
    "def delta(x,y):\n",
    "    return 0 if x == y else 1\n",
    "\n",
    "def M(seq1,seq2,i,j,k):\n",
    "    return sum(delta(x,y) for x,y in zip(seq1[i:i+k],seq2[j:j+k]))\n",
    "\n",
    "def makeMatrix(seq1,seq2,k):\n",
    "    n = len(seq1)\n",
    "    m = len(seq2)\n",
    "    return [[M(seq1,seq2,i,j,k) for j in range(m-k+1)] for i in range(n-k+1)]\n",
    "\n",
    "def makeDotPlot(seqx, seqy) :\n",
    "    dotplot=plt.imshow(numpy.array(makeMatrix(seqx,seqy,1)))\n",
    "    xt=plt.xticks(numpy.arange(len(list(seqx))),list(seqx))\n",
    "    yt=plt.yticks(numpy.arange(len(list(seqx))),list(seqx))\n",
    "    plt.show()\n",
    "\n",
    "print(\"Section of COX2 comparison gambiae to darlingi:\")\n",
    "makeDotPlot(gambi_cox_seq[400:425], darli_cox_seq[400:425])\n",
    "print(\"Section of COX2 comparison gambiae to arabiensis:\")\n",
    "makeDotPlot(gambi_cox_seq[400:425], arabi_cox_seq[400:425])"
   ]
  },
  {
   "cell_type": "markdown",
   "metadata": {},
   "source": [
    "The code above I found and modified from: https://stackoverflow.com/questions/40822400/how-to-create-a-dotplot-of-two-dna-sequence-in-python"
   ]
  },
  {
   "cell_type": "code",
   "execution_count": 85,
   "metadata": {},
   "outputs": [
    {
     "name": "stdout",
     "output_type": "stream",
     "text": [
      "Dot plot showing gambiae COX2 compared to darlingi COX2 sequence:\n"
     ]
    },
    {
     "data": {
      "image/png": "[encoded data removed]",
      "text/plain": [
       "<Figure size 432x288 with 1 Axes>"
      ]
     },
     "metadata": {
      "needs_background": "light"
     },
     "output_type": "display_data"
    },
    {
     "name": "stdout",
     "output_type": "stream",
     "text": [
      "Dot plot showing gambiae COX2 compared to arabiensis COX2 sequence:\n"
     ]
    },
    {
     "data": {
      "image/png": "[encoded data removed]",
      "text/plain": [
       "<Figure size 432x288 with 1 Axes>"
      ]
     },
     "metadata": {
      "needs_background": "light"
     },
     "output_type": "display_data"
    }
   ],
   "source": [
    "# The dot plot above doesn't work very well with long sequences so I am creating another plot below.\n",
    "# Starting by opening the fasta file that contains the COX2 sequence data for all three species.\n",
    "# Then reading in each sequence to a different object (rec_one, rec_two, rec_three)\n",
    "with open(\"cox2_anopheles.fasta\") as in_handle:\n",
    "    record_iterator = SeqIO.parse(in_handle, \"fasta\")\n",
    "    # rec_one is the gambiae sequence\n",
    "    rec_one = next(record_iterator)\n",
    "    # rec_two is the darlingi sequence\n",
    "    rec_two = next(record_iterator)\n",
    "    # rec_three is the arabiensis sequence\n",
    "    rec_three = next(record_iterator)\n",
    "        \n",
    "window = 7\n",
    "seq_one = str(rec_one.seq).upper()\n",
    "seq_two = str(rec_two.seq).upper()\n",
    "seq_three = str(rec_three.seq).upper()\n",
    "data = [\n",
    "    [\n",
    "        (seq_one[i : i + window] != seq_two[j : j + window])\n",
    "        for j in range(len(seq_one) - window)\n",
    "    ]\n",
    "    for i in range(len(seq_two) - window)\n",
    "]\n",
    "\n",
    "# Plotting the dot plot for gambiae compared to darlingi\n",
    "print(\"Dot plot showing gambiae COX2 compared to darlingi COX2 sequence:\")\n",
    "pylab.gray()\n",
    "pylab.imshow(data)\n",
    "pylab.xlabel(\"%s (length %i bp)\" % (rec_one.id, len(rec_one)))\n",
    "pylab.ylabel(\"%s (length %i bp)\" % (rec_two.id, len(rec_two)))\n",
    "pylab.title(\"Dot plot using window size %i\\n(allowing no mis-matches)\" % window)\n",
    "pylab.show()\n",
    "\n",
    "\n",
    "# Now making the dot plot for gambiae compared to arabiensis\n",
    "data = [\n",
    "    [\n",
    "        (seq_one[i : i + window] != seq_three[j : j + window])\n",
    "        for j in range(len(seq_one) - window)\n",
    "    ]\n",
    "    for i in range(len(seq_three) - window)\n",
    "]\n",
    "\n",
    "print(\"Dot plot showing gambiae COX2 compared to arabiensis COX2 sequence:\")\n",
    "pylab.gray()\n",
    "pylab.imshow(data)\n",
    "pylab.xlabel(\"%s (length %i bp)\" % (rec_one.id, len(rec_one)))\n",
    "pylab.ylabel(\"%s (length %i bp)\" % (rec_three.id, len(rec_three)))\n",
    "pylab.title(\"Dot plot using window size %i\\n(allowing no mis-matches)\" % window)\n",
    "pylab.show()"
   ]
  },
  {
   "cell_type": "markdown",
   "metadata": {},
   "source": [
    "The code above I found and modified from: http://biopython.org/DIST/docs/tutorial/Tutorial.html"
   ]
  }
 ],
 "metadata": {
  "kernelspec": {
   "display_name": "Python 3",
   "language": "python",
   "name": "python3"
  },
  "language_info": {
   "codemirror_mode": {
    "name": "ipython",
    "version": 3
   },
   "file_extension": ".py",
   "mimetype": "text/x-python",
   "name": "python",
   "nbconvert_exporter": "python",
   "pygments_lexer": "ipython3",
   "version": "3.8.5"
  }
 },
 "nbformat": 4,
 "nbformat_minor": 4
}
